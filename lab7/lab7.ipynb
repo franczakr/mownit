{
 "cells": [
  {
   "cell_type": "code",
   "execution_count": null,
   "metadata": {},
   "outputs": [],
   "source": [
    "# Pkg.add(\"Roots\")\n",
    "# Pkg.add(\"ForwardDiff\")\n",
    "\n",
    "using Roots  \n",
    "using Plots\n",
    "using ForwardDiff\n",
    "using DataFrames"
   ]
  },
  {
   "cell_type": "code",
   "execution_count": null,
   "metadata": {},
   "outputs": [],
   "source": [
    "function one(x)\n",
    "    sin(x) - x/2\n",
    "end\n",
    "function two(x)\n",
    "    2*x - exp( -x )\n",
    "end\n",
    "function three(x)\n",
    "    x * exp( -x )\n",
    "end\n",
    "function four(x)\n",
    "     exp(x) - (1 / ( 10*x )^2)\n",
    "end\n",
    "function five(x)\n",
    "     (x+3)*(x-1)^2\n",
    "end\n",
    "function six(x)\n",
    "     exp(x) - 2 - 1/(10*x)^2 + 2/(100*x)^3\n",
    "end"
   ]
  },
  {
   "cell_type": "code",
   "execution_count": null,
   "metadata": {},
   "outputs": [],
   "source": [
    "x = find_zero(one, (1, 3), FalsePosition(), verbose=true)\n",
    "println(iszero(one(x)))\n",
    "\n",
    "D(one) = x->ForwardDiff.derivative(one, float(x))\n",
    "x = find_zero((one, D(one)),2, Roots.Newton(), verbose=true)\n",
    "println(iszero(one(x)))\n",
    "\n",
    "\n",
    "x = find_zero(one, 2, Order1(),  verbose=true)\n",
    "println(iszero(one(x)))"
   ]
  },
  {
   "cell_type": "code",
   "execution_count": null,
   "metadata": {},
   "outputs": [],
   "source": [
    "x = find_zero(two, (0, 1), FalsePosition(), verbose=true)\n",
    "println(iszero(two(x)))\n",
    "\n",
    "D(two) = x->ForwardDiff.derivative(two, float(x))\n",
    "x = find_zero((two, D(two)), 1, Roots.Newton(), verbose=true)\n",
    "println(iszero(two(x)))\n",
    "\n",
    "\n",
    "x = find_zero(two, 1, Order1(),  verbose=true)\n",
    "println(iszero(two(x)))"
   ]
  },
  {
   "cell_type": "code",
   "execution_count": null,
   "metadata": {},
   "outputs": [],
   "source": [
    "x = find_zero(three, (-1, 1), FalsePosition(), verbose=true)\n",
    "println(iszero(three(x)))\n",
    "\n",
    "D(three) = x->ForwardDiff.derivative(three, float(x))\n",
    "x = find_zero((three, D(three)), 0.9, Roots.Newton(), verbose=true)\n",
    "println(iszero(three(x)))\n",
    "\n",
    "\n",
    "x = find_zero(three, 0.6, Order1(),  verbose=true)\n",
    "println(iszero(three(x)))"
   ]
  },
  {
   "cell_type": "code",
   "execution_count": null,
   "metadata": {},
   "outputs": [],
   "source": [
    "x = find_zero(four, (0, 1), FalsePosition(), verbose=true)\n",
    "println(iszero(four(x)))\n",
    "\n",
    "D(four) = x->ForwardDiff.derivative(four, float(x))\n",
    "x = find_zero((four, D(four)),1, Roots.Newton(), verbose=true)\n",
    "println(iszero(four(x)))\n",
    "\n",
    "\n",
    "x = find_zero(four, 1, Order1(),  verbose=true)\n",
    "println(iszero(four(x)))"
   ]
  },
  {
   "cell_type": "code",
   "execution_count": null,
   "metadata": {
    "scrolled": false
   },
   "outputs": [],
   "source": [
    "x = find_zero(five, (-4, -1), FalsePosition(), verbose=true)\n",
    "println(iszero(five(x)))\n",
    "\n",
    "D(five) = x->ForwardDiff.derivative(five, float(x))\n",
    "x = find_zero((five, D(five)), 0, Roots.Newton(), verbose=true)\n",
    "println(iszero(five(x)))\n",
    "\n",
    "\n",
    "x = find_zero(five, 0, Order1(),  verbose=true)\n",
    "println(iszero(five(x)))"
   ]
  },
  {
   "cell_type": "code",
   "execution_count": null,
   "metadata": {},
   "outputs": [],
   "source": [
    "x = find_zero(six, (0, 2), FalsePosition(), verbose=true)\n",
    "println(iszero(six(x)))\n",
    "\n",
    "D(six) = x->ForwardDiff.derivative(six, float(x))\n",
    "x = find_zero((six, D(six)),0.1, Roots.Newton(), verbose=true)\n",
    "println(iszero(six(x)))\n",
    "\n",
    "\n",
    "x = find_zero(six, 0.1, Order1(),  verbose=true)\n",
    "println(iszero(six(x)))"
   ]
  },
  {
   "cell_type": "code",
   "execution_count": null,
   "metadata": {},
   "outputs": [],
   "source": [
    "data1 = DataFrame()\n",
    "data1[:method] = [\"FalsePosition\", \"Newton\", \"Secant\"]\n",
    "data1[:iterations] = [41, 4, 5]\n",
    "data1[:function_evaluations] = [43, 9, 7]\n",
    "data1[:iszero] = [false, true, true]\n",
    "data1"
   ]
  },
  {
   "cell_type": "code",
   "execution_count": null,
   "metadata": {},
   "outputs": [],
   "source": [
    "data2 = DataFrame()\n",
    "data2[:method] = [\"FalsePosition\", \"Newton\", \"Secant\"]\n",
    "data2[:iterations] = [6, 4, 6]\n",
    "data2[:function_evaluations] = [8, 9, 8]\n",
    "data2[:iszero] = [true, false, true]\n",
    "data2"
   ]
  },
  {
   "cell_type": "code",
   "execution_count": null,
   "metadata": {},
   "outputs": [],
   "source": [
    "data3 = DataFrame()\n",
    "data3[:method] = [\"FalsePosition\", \"Newton\", \"Secant\"]\n",
    "data3[:iterations] = [41, 17, 11]\n",
    "data3[:function_evaluations] = [43, 35, 13]\n",
    "data3[:iszero] = [false, false, false]\n",
    "data3"
   ]
  },
  {
   "cell_type": "code",
   "execution_count": null,
   "metadata": {},
   "outputs": [],
   "source": [
    "data4 = DataFrame()\n",
    "data4[:method] = [\"FalsePosition\", \"Newton\", \"Secant\"]\n",
    "data4[:iterations] = [10, 12, 26]\n",
    "data4[:function_evaluations] = [12, 15, 28]\n",
    "data4[:iszero] = [false, false, false]\n",
    "data4"
   ]
  },
  {
   "cell_type": "code",
   "execution_count": null,
   "metadata": {},
   "outputs": [],
   "source": [
    "data5 = DataFrame()\n",
    "data5[:method] = [\"FalsePosition\", \"Newton\", \"Secant\"]\n",
    "data5[:iterations] = [9, 26, 37]\n",
    "data5[:function_evaluations] = [11, 53, 39]\n",
    "data5[:iszero] = [true, false, false]\n",
    "data5"
   ]
  },
  {
   "cell_type": "code",
   "execution_count": null,
   "metadata": {},
   "outputs": [],
   "source": [
    "data6 = DataFrame()\n",
    "data6[:method] = [\"FalsePosition\", \"Newton\", \"Secant\"]\n",
    "data6[:iterations] = [7, 6, 8]\n",
    "data6[:function_evaluations] = [9, 13, 10]\n",
    "data6[:iszero] = [false, false, false]\n",
    "data6"
   ]
  },
  {
   "cell_type": "code",
   "execution_count": null,
   "metadata": {},
   "outputs": [],
   "source": [
    "x = find_zero(three, (-1, 1), FalsePosition(), verbose=true)\n",
    "println(iszero(three(x)))\n",
    "\n",
    "D(three) = x->ForwardDiff.derivative(three, float(x))\n",
    "x = find_zero((three, D(three)), 1, Roots.Newton(), verbose=true)\n",
    "println(iszero(three(x)))\n",
    "\n",
    "\n"
   ]
  },
  {
   "cell_type": "code",
   "execution_count": null,
   "metadata": {},
   "outputs": [],
   "source": [
    "x = find_zero(three, 1, Order1(),  verbose=true)\n",
    "println(iszero(three(x)))"
   ]
  },
  {
   "cell_type": "code",
   "execution_count": null,
   "metadata": {
    "scrolled": false
   },
   "outputs": [],
   "source": [
    "D(three) = x->ForwardDiff.derivative(three, float(x))\n",
    "x = find_zero((three, D(three)), 1.1, Roots.Newton(), verbose=true)\n",
    "println(iszero(three(x)))\n",
    "\n",
    "\n",
    "x = find_zero(three, 1.1, Order1(),  verbose=true)\n",
    "println(iszero(three(x)))"
   ]
  },
  {
   "cell_type": "code",
   "execution_count": null,
   "metadata": {
    "scrolled": false
   },
   "outputs": [],
   "source": [
    "D(three) = x->ForwardDiff.derivative(three, float(x))\n",
    "x = find_zero((three, D(three)), 0.9, Roots.Newton(), verbose=true)\n",
    "println(iszero(three(x)))\n",
    "\n",
    "\n",
    "x = find_zero(three, 0.9, Order1(),  verbose=true)\n",
    "println(iszero(three(x)))"
   ]
  },
  {
   "cell_type": "code",
   "execution_count": null,
   "metadata": {},
   "outputs": [],
   "source": [
    "x = find_zero(five, (0, 2), FalsePosition(), verbose=true)"
   ]
  },
  {
   "cell_type": "code",
   "execution_count": null,
   "metadata": {},
   "outputs": [],
   "source": []
  }
 ],
 "metadata": {
  "kernelspec": {
   "display_name": "Julia 1.0.3 (4 threads)",
   "language": "julia",
   "name": "julia-1.0k"
  },
  "language_info": {
   "file_extension": ".jl",
   "mimetype": "application/julia",
   "name": "julia",
   "version": "1.0.3"
  }
 },
 "nbformat": 4,
 "nbformat_minor": 2
}
