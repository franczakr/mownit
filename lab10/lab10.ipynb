{
 "cells": [
  {
   "cell_type": "code",
   "execution_count": null,
   "metadata": {},
   "outputs": [],
   "source": [
    "using DifferentialEquations\n",
    "using Plots"
   ]
  },
  {
   "cell_type": "code",
   "execution_count": null,
   "metadata": {},
   "outputs": [],
   "source": [
    "function predator_prey(du,u,p,t) \n",
    "    x,y = u\n",
    "    a,b,c,d = p\n",
    "    du[1] = -a*x + c*d*x*y\n",
    "    du[2] = b*y - d*x*y\n",
    "    du\n",
    "end"
   ]
  },
  {
   "cell_type": "code",
   "execution_count": null,
   "metadata": {},
   "outputs": [],
   "source": [
    "x = 10.0 # drapieżnicy\n",
    "y = 20.0 # ofiary\n",
    "a = 0.2 # współczynnik śmierci drapieżników z powodu braku ofiar\n",
    "b = 0.8 # współczynnik narodzin ofiar, gdy nie ma drapieżników\n",
    "c = 0.25 # efektywność z jaka drapieżnik wykorzystuje energię pozyskan¸a ze zjedzenia ofiar 0.0 < c =< 1.0\n",
    "d = 0.05 # efektywność uśmiercania ofiar przez drapieżników\n",
    "u0 = [x,y]\n",
    "p = [a,b,c,d]\n",
    "tspan = (0.0, 80.0)\n",
    "prob = ODEProblem(predator_prey, u0, tspan, p)\n",
    "sol = solve(prob, reltol=1e-8)\n",
    "plot(sol.t, [x[1] for x in sol.u], label=\"drapieznicy\")\n",
    "plot!(sol.t, [x[2] for x in sol.u], label=\"ofiary\")"
   ]
  },
  {
   "cell_type": "code",
   "execution_count": null,
   "metadata": {},
   "outputs": [],
   "source": []
  },
  {
   "cell_type": "code",
   "execution_count": null,
   "metadata": {},
   "outputs": [],
   "source": [
    "function euler(u0, f, tspan, dt, p)\n",
    "    u = Array{Float64,1}[]\n",
    "    du = zeros(2)\n",
    "    push!(u, u0)\n",
    "    time = collect(tspan[1]+dt:dt:tspan[2])\n",
    "    for t in time\n",
    "        last_u = u[lastindex(u)]\n",
    "        du = f(du, last_u, p, t-dt)\n",
    "        push!(u, last_u + du * dt)\n",
    "    end\n",
    "    pushfirst!(time, tspan[1])\n",
    "    (time, u)\n",
    "end"
   ]
  },
  {
   "cell_type": "code",
   "execution_count": null,
   "metadata": {},
   "outputs": [],
   "source": [
    "x = 10.0 # drapieżnicy\n",
    "y = 20.0 # ofiary\n",
    "a = 0.2 # współczynnik śmierci drapieżników z powodu braku ofiar\n",
    "b = 0.8 # współczynnik narodzin ofiar, gdy nie ma drapieżników\n",
    "c = 0.25 # efektywność z jaka drapieżnik wykorzystuje energię pozyskan¸a ze zjedzenia ofiar 0.0 < c =< 1.0\n",
    "d = 0.05 # efektywność uśmiercania ofiar przez drapieżników\n",
    "u0 = [x,y]\n",
    "p = [a,b,c,d]\n",
    "tspan = (0.0, 80.0)\n",
    "dt = 0.001\n",
    "t,u = euler(u0, predator_prey, tspan, dt, p)\n",
    "plot(t, [x[1] for x in u], label=\"drapieznicy\")\n",
    "plot!(t, [x[2] for x in u], label=\"ofiary\")"
   ]
  },
  {
   "cell_type": "code",
   "execution_count": null,
   "metadata": {},
   "outputs": [],
   "source": []
  }
 ],
 "metadata": {
  "kernelspec": {
   "display_name": "Julia 1.0.3 (4 threads)",
   "language": "julia",
   "name": "julia-1.0k"
  },
  "language_info": {
   "file_extension": ".jl",
   "mimetype": "application/julia",
   "name": "julia",
   "version": "1.0.3"
  }
 },
 "nbformat": 4,
 "nbformat_minor": 2
}
