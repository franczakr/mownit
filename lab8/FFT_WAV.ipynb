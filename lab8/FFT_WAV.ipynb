{
 "cells": [
  {
   "cell_type": "code",
   "execution_count": null,
   "metadata": {},
   "outputs": [],
   "source": [
    "using WAV\n",
    "using FFTW\n",
    "using Plots"
   ]
  },
  {
   "cell_type": "code",
   "execution_count": null,
   "metadata": {},
   "outputs": [],
   "source": [
    "snd, sampFreq = wavread(\"test1.wav\")"
   ]
  },
  {
   "cell_type": "code",
   "execution_count": null,
   "metadata": {},
   "outputs": [],
   "source": [
    "size(snd)"
   ]
  },
  {
   "cell_type": "code",
   "execution_count": null,
   "metadata": {},
   "outputs": [],
   "source": [
    "size(snd,1) / sampFreq"
   ]
  },
  {
   "cell_type": "code",
   "execution_count": null,
   "metadata": {},
   "outputs": [],
   "source": [
    "s1 = snd[:,1] \n",
    "timeArray = (0:(48687-1)) / sampFreq\n",
    "timeArray = timeArray * 1000 #scale to milliseconds\n",
    "plot(timeArray, s1)"
   ]
  },
  {
   "cell_type": "code",
   "execution_count": null,
   "metadata": {},
   "outputs": [],
   "source": [
    "n = length(s1)\n",
    "p = fft(s1)\n",
    "for i in range(500, 10000)\n",
    "    p[i] = 0\n",
    "    p[size(p,1) - i] = 0\n",
    "end\n",
    "sticks(abs.(p))"
   ]
  },
  {
   "cell_type": "code",
   "execution_count": null,
   "metadata": {},
   "outputs": [],
   "source": [
    "r = ifft(p)\n",
    "a = zeros(size(r,1))\n",
    "for i in range(1,size(r,1))\n",
    "    a[i] = r[i].re\n",
    "end\n",
    "wavwrite(a, \"test1Changed2.wav\", Fs=sampFreq)\n",
    "plot(timeArray,a)"
   ]
  },
  {
   "cell_type": "code",
   "execution_count": null,
   "metadata": {},
   "outputs": [],
   "source": [
    "n = length(s1)\n",
    "p = fft(s1)\n",
    "for i in range(1, 700)\n",
    "    p[i] = 0\n",
    "    p[size(p,1) - i] = 0\n",
    "end\n",
    "sticks(abs.(p))"
   ]
  },
  {
   "cell_type": "code",
   "execution_count": null,
   "metadata": {},
   "outputs": [],
   "source": [
    "r = ifft(p)\n",
    "a = zeros(size(r,1))\n",
    "for i in range(1,size(r,1))\n",
    "    a[i] = r[i].re\n",
    "end\n",
    "wavwrite(a, \"test1Changed2.wav\", Fs=sampFreq)\n",
    "plot(timeArray,a)"
   ]
  },
  {
   "cell_type": "code",
   "execution_count": null,
   "metadata": {},
   "outputs": [],
   "source": []
  }
 ],
 "metadata": {
  "kernelspec": {
   "display_name": "Julia 1.0.3 (4 threads)",
   "language": "julia",
   "name": "julia-1.0k"
  },
  "language_info": {
   "file_extension": ".jl",
   "mimetype": "application/julia",
   "name": "julia",
   "version": "1.0.3"
  }
 },
 "nbformat": 4,
 "nbformat_minor": 2
}
