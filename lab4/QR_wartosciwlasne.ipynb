{
 "cells": [
  {
   "cell_type": "code",
   "execution_count": 80,
   "metadata": {},
   "outputs": [
    {
     "data": {
      "text/plain": [
       "5-element Array{Float64,1}:\n",
       "  2.252900391213277  \n",
       "  0.46753431478319807\n",
       " -0.6143852513672683 \n",
       " -0.0717818046344262 \n",
       " -0.22910901593254726"
      ]
     },
     "execution_count": 80,
     "metadata": {},
     "output_type": "execute_result"
    }
   ],
   "source": [
    "using(LinearAlgebra)\n",
    "    \n",
    "A = rand(5,5)\n",
    "eigvals(A)"
   ]
  },
  {
   "cell_type": "code",
   "execution_count": 81,
   "metadata": {},
   "outputs": [
    {
     "data": {
      "text/plain": [
       "5×5 Array{Float64,2}:\n",
       "  2.2529       -0.182765     -0.295526     -0.509415     -0.190987 \n",
       "  1.80207e-28  -0.614385     -0.13587      -0.33331       0.602084 \n",
       "  1.66817e-35   1.80775e-7    0.467534     -0.443802      0.533858 \n",
       " -8.67684e-50   1.43894e-22   1.83751e-16  -0.229109      0.572862 \n",
       " -5.92835e-75   9.76324e-48   1.41985e-41  -1.46105e-26  -0.0717818"
      ]
     },
     "execution_count": 81,
     "metadata": {},
     "output_type": "execute_result"
    }
   ],
   "source": [
    "for i = 1:50\n",
    "    F = qr(A)\n",
    "    A = transpose(F.Q)*A*F.Q\n",
    "end\n",
    "A"
   ]
  },
  {
   "cell_type": "code",
   "execution_count": null,
   "metadata": {},
   "outputs": [],
   "source": []
  },
  {
   "cell_type": "code",
   "execution_count": null,
   "metadata": {},
   "outputs": [],
   "source": []
  }
 ],
 "metadata": {
  "kernelspec": {
   "display_name": "Julia 1.0.3 (4 threads)",
   "language": "julia",
   "name": "julia-1.0k"
  },
  "language_info": {
   "file_extension": ".jl",
   "mimetype": "application/julia",
   "name": "julia",
   "version": "1.0.3"
  }
 },
 "nbformat": 4,
 "nbformat_minor": 2
}
