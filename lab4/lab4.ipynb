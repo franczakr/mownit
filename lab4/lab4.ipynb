{
 "cells": [
  {
   "cell_type": "code",
   "execution_count": 7,
   "metadata": {},
   "outputs": [
    {
     "data": {
      "text/plain": [
       "1000×1000 Array{Float64,2}:\n",
       " 0.531074   0.122714   0.764328   …  0.00200093  0.58644     0.805957 \n",
       " 0.143587   0.42682    0.905587      0.0598392   0.58675     0.150932 \n",
       " 0.533487   0.502326   0.0530202     0.0978404   0.881388    0.368391 \n",
       " 0.50761    0.462163   0.327654      0.151982    0.142549    0.996536 \n",
       " 0.628236   0.694976   0.120884      0.30621     0.0823358   0.963059 \n",
       " 0.162943   0.456521   0.799513   …  0.926728    0.0240755   0.784808 \n",
       " 0.124647   0.0930861  0.685793      0.348874    0.231099    0.96562  \n",
       " 0.407667   0.41977    0.460442      0.540135    0.356887    0.367749 \n",
       " 0.6409     0.910319   0.0699366     0.361996    0.160656    0.0715206\n",
       " 0.417463   0.303397   0.593647      0.729698    0.269633    0.743505 \n",
       " 0.875406   0.929412   0.0380862  …  0.272512    0.732539    0.242182 \n",
       " 0.233897   0.173134   0.97609       0.673608    0.673606    0.635059 \n",
       " 0.417356   0.417016   0.9093        0.801744    0.422602    0.45591  \n",
       " ⋮                                ⋱                                   \n",
       " 0.681282   0.0416965  0.0292527     0.0529251   0.504035    0.574288 \n",
       " 0.537582   0.579885   0.620337      0.563172    0.956645    0.505673 \n",
       " 0.112242   0.899571   0.907018   …  0.608568    0.535088    0.424111 \n",
       " 0.902792   0.709254   0.972535      0.87787     0.888072    0.926602 \n",
       " 0.0886297  0.445312   0.631489      0.550407    0.0108393   0.662057 \n",
       " 0.415054   0.373005   0.749902      0.517216    0.9082      0.648928 \n",
       " 0.993124   0.780421   0.32276       0.664391    0.850948    0.967855 \n",
       " 0.793665   0.0859568  0.969445   …  0.380295    0.986491    0.395756 \n",
       " 0.29178    0.386732   0.2105        0.786474    0.333678    0.719159 \n",
       " 0.39572    0.617619   0.261534      0.103863    0.206691    0.713055 \n",
       " 0.643247   0.462347   0.159529      0.245302    0.460259    0.693845 \n",
       " 0.7118     0.894785   0.369294      0.654976    0.00498786  0.905182 "
      ]
     },
     "execution_count": 7,
     "metadata": {},
     "output_type": "execute_result"
    }
   ],
   "source": [
    "using(LinearAlgebra)\n",
    "A = rand(1000, 1000)\n",
    "x = rand(1000)\n",
    "b = A*x"
   ]
  },
  {
   "cell_type": "code",
   "execution_count": 68,
   "metadata": {
    "scrolled": true
   },
   "outputs": [
    {
     "name": "stdout",
     "output_type": "stream",
     "text": [
      "Inverse  time 0.115862409\n",
      "Operator \\ time 0.093917277\n",
      "Factorize time 0.095853563\n"
     ]
    }
   ],
   "source": [
    "invX = inv(A) * b\n",
    "divX = A \\ b\n",
    "AF= factorize(A)\n",
    "factX =  AF \\ b\n",
    "\n",
    "invTime = @elapsed inv(A) * b\n",
    "divTime = @elapsed  A \\ b\n",
    "factTime = @elapsed factorize(A)\n",
    "factTime += @elapsed AF \\ b\n",
    "\n",
    "print(\"Inverse  time \")\n",
    "println(invTime)\n",
    "print(\"Operator \\\\ time \")\n",
    "println(divTime)\n",
    "print(\"Factorize time \")\n",
    "println(factTime)"
   ]
  },
  {
   "cell_type": "code",
   "execution_count": 69,
   "metadata": {},
   "outputs": [
    {
     "name": "stdout",
     "output_type": "stream",
     "text": [
      "Błąd\n",
      "Inverse 3.162919064607151e-11\n",
      "Operator \\ 1.3582377679316726e-11\n",
      "Factorize 1.3582377679316726e-11\n"
     ]
    }
   ],
   "source": [
    "println(\"Błąd\")\n",
    "print(\"Inverse \")\n",
    "invDeltaX = x - invX\n",
    "println(sqrt(dot(invDeltaX,invDeltaX)))\n",
    "\n",
    "divDeltaX = x -  divX\n",
    "print(\"Operator \\\\ \")\n",
    "println(sqrt(dot(divDeltaX,divDeltaX)))\n",
    "\n",
    "factDeltaX = x - factX\n",
    "\n",
    "print(\"Factorize \")\n",
    "println(sqrt(dot(factDeltaX,factDeltaX)))"
   ]
  },
  {
   "cell_type": "code",
   "execution_count": 83,
   "metadata": {},
   "outputs": [
    {
     "data": {
      "text/plain": [
       "4-element Array{Float64,1}:\n",
       "  7.344460185185185e-8\n",
       " -2.959810833333338e-5\n",
       "  0.007099599338624374\n",
       " -0.5281812857142923  "
      ]
     },
     "execution_count": 83,
     "metadata": {},
     "output_type": "execute_result"
    }
   ],
   "source": [
    "using CSV\n",
    "using DataFrames\n",
    "using Plots\n",
    "using Polynomials\n",
    "using Statistics\n",
    "input=\"dane.csv\"\n",
    "df=CSV.read(input, delim=\";\")\n",
    "df3=by(df, [:size]) do subGroup\n",
    "          DataFrame(meanNaive = mean(subGroup[:naive]), stdNaive = std(subGroup[:naive]),\n",
    "            meanBetter = mean(subGroup[:better]), stdBetter = std(subGroup[:better]),\n",
    "            meanBlas = mean(subGroup[:blas]), stdBlas = std(subGroup[:blas])) \n",
    "        end\n",
    "y = df3[:meanNaive]\n",
    "x = [100,200,300,400,500,600,700,800]\n",
    "A=zeros(8,4)\n",
    "A[:,1] = x.^3\n",
    "A[:,2] = x.^2\n",
    "A[:,3] = x\n",
    "A[:,4] = ones(8)\n",
    "A \\ y\n"
   ]
  },
  {
   "cell_type": "code",
   "execution_count": 84,
   "metadata": {},
   "outputs": [
    {
     "data": {
      "text/html": [
       "&#45;0.5281812857142923 &#43; 0.007099599338624374&#8729;x &#45; 2.959810833333338e-5&#8729;x^2 &#43; 7.344460185185185e-8&#8729;x^3"
      ],
      "text/latex": [
       "$-0.5281812857142923 + 0.007099599338624374\\cdot x - 2.959810833333338e-5\\cdot x^{2} + 7.344460185185185e-8\\cdot x^{3}$"
      ],
      "text/plain": [
       "Poly(-0.5281812857142923 + 0.007099599338624374*x - 2.959810833333338e-5*x^2 + 7.344460185185185e-8*x^3)"
      ]
     },
     "execution_count": 84,
     "metadata": {},
     "output_type": "execute_result"
    }
   ],
   "source": [
    "polyfit(x, y,3)"
   ]
  },
  {
   "cell_type": "code",
   "execution_count": null,
   "metadata": {},
   "outputs": [],
   "source": []
  },
  {
   "cell_type": "code",
   "execution_count": null,
   "metadata": {},
   "outputs": [],
   "source": []
  },
  {
   "cell_type": "code",
   "execution_count": 18,
   "metadata": {
    "scrolled": true
   },
   "outputs": [
    {
     "data": {
      "text/plain": [
       "4×3 Array{Float64,2}:\n",
       " 1.0  -1.0   4.0\n",
       " 1.0   4.0  -2.0\n",
       " 1.0   4.0   2.0\n",
       " 1.0  -1.0   0.0"
      ]
     },
     "execution_count": 18,
     "metadata": {},
     "output_type": "execute_result"
    }
   ],
   "source": [
    "using(LinearAlgebra)\n",
    "A = zeros(4,3)\n",
    "A[:,1] = [1 1 1 1]\n",
    "A[:,2] = [-1, 4, 4, -1]\n",
    "A[:,3] = [4 -2 2 0]"
   ]
  },
  {
   "cell_type": "code",
   "execution_count": 19,
   "metadata": {
    "scrolled": true
   },
   "outputs": [
    {
     "data": {
      "text/plain": [
       "QRPivoted{Float64,Array{Float64,2}}\n",
       "Q factor:\n",
       "4×4 LinearAlgebra.QRPackedQ{Float64,Array{Float64,2}}:\n",
       " -0.171499  -0.800368    0.282843  -0.5\n",
       "  0.685994   0.315296    0.424264  -0.5\n",
       "  0.685994  -0.509325   -0.141421   0.5\n",
       " -0.171499   0.0242536   0.848528   0.5\n",
       "R factor:\n",
       "3×3 Array{Float64,2}:\n",
       " 5.83095  -0.685994   1.02899 \n",
       " 0.0      -4.85071   -0.970143\n",
       " 0.0       0.0        1.41421 \n",
       "permutation:\n",
       "3-element Array{Int64,1}:\n",
       " 2\n",
       " 3\n",
       " 1"
      ]
     },
     "execution_count": 19,
     "metadata": {},
     "output_type": "execute_result"
    }
   ],
   "source": [
    "AF=factorize(A)"
   ]
  },
  {
   "cell_type": "code",
   "execution_count": 21,
   "metadata": {},
   "outputs": [
    {
     "data": {
      "text/plain": [
       "3×3 Array{Float64,2}:\n",
       " 0.171499  -0.0242536  -0.141421\n",
       " 0.0       -0.206155   -0.141421\n",
       " 0.0        0.0         0.707107"
      ]
     },
     "execution_count": 21,
     "metadata": {},
     "output_type": "execute_result"
    }
   ],
   "source": [
    "inv(AF.R)"
   ]
  },
  {
   "cell_type": "code",
   "execution_count": 23,
   "metadata": {},
   "outputs": [
    {
     "ename": "ArgumentError",
     "evalue": "ArgumentError: number of rows of each array must match (got (3, 1))",
     "output_type": "error",
     "traceback": [
      "ArgumentError: number of rows of each array must match (got (3, 1))",
      "",
      "Stacktrace:",
      " [1] _typed_hcat(::Type{Float64}, ::Tuple{Array{Float64,2},Array{Int64,1}}) at ./abstractarray.jl:1248",
      " [2] typed_hcat at ./abstractarray.jl:1235 [inlined]",
      " [3] hcat(::Array{Float64,2}, ::Array{Int64,1}) at /buildworker/worker/package_linux64/build/usr/share/julia/stdlib/v1.0/SparseArrays/src/sparsevector.jl:1061",
      " [4] top-level scope at In[23]:1"
     ]
    }
   ],
   "source": []
  },
  {
   "cell_type": "code",
   "execution_count": null,
   "metadata": {},
   "outputs": [],
   "source": []
  }
 ],
 "metadata": {
  "kernelspec": {
   "display_name": "Julia 1.0.3 (4 threads)",
   "language": "julia",
   "name": "julia-1.0k"
  },
  "language_info": {
   "file_extension": ".jl",
   "mimetype": "application/julia",
   "name": "julia",
   "version": "1.0.3"
  }
 },
 "nbformat": 4,
 "nbformat_minor": 2
}
