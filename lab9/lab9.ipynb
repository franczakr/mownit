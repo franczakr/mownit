{
 "cells": [
  {
   "cell_type": "code",
   "execution_count": null,
   "metadata": {},
   "outputs": [],
   "source": [
    "using Plots\n",
    "using Polynomials\n",
    "using QuadGK"
   ]
  },
  {
   "cell_type": "code",
   "execution_count": null,
   "metadata": {},
   "outputs": [],
   "source": [
    "function legendr(k)\n",
    "    if k == 0\n",
    "        return Poly([1])\n",
    "    end\n",
    "    if k == 1\n",
    "        return Poly([0,1])\n",
    "    end\n",
    "    ((2k-1)/(k))*Poly([0,1])*legendr(k-1) - (k-1)/(k)*legendr(k-2)\n",
    "end"
   ]
  },
  {
   "cell_type": "code",
   "execution_count": null,
   "metadata": {},
   "outputs": [],
   "source": [
    "x = -1:0.01:1\n",
    "y = [legendr(2)(x1) for x1 in x]\n",
    "plot(x,y)\n",
    "y = [legendr(3)(x1) for x1 in x]\n",
    "plot!(x,y)\n",
    "y = [legendr(20)(x1) for x1 in x]\n",
    "plot!(x,y)"
   ]
  },
  {
   "cell_type": "code",
   "execution_count": null,
   "metadata": {},
   "outputs": [],
   "source": [
    "(xp,a)=gauss(Float64, 2)"
   ]
  },
  {
   "cell_type": "code",
   "execution_count": null,
   "metadata": {},
   "outputs": [],
   "source": [
    "roots(legendr(2))"
   ]
  },
  {
   "cell_type": "code",
   "execution_count": null,
   "metadata": {},
   "outputs": [],
   "source": [
    "(xp,a)=gauss(Float64, 3)"
   ]
  },
  {
   "cell_type": "code",
   "execution_count": null,
   "metadata": {},
   "outputs": [],
   "source": [
    "roots(legendr(3))"
   ]
  },
  {
   "cell_type": "code",
   "execution_count": null,
   "metadata": {},
   "outputs": [],
   "source": [
    "(xp,a)=gauss(Float64, 4)"
   ]
  },
  {
   "cell_type": "code",
   "execution_count": null,
   "metadata": {},
   "outputs": [],
   "source": [
    "roots(legendr(4))"
   ]
  },
  {
   "cell_type": "code",
   "execution_count": null,
   "metadata": {},
   "outputs": [],
   "source": []
  },
  {
   "cell_type": "code",
   "execution_count": null,
   "metadata": {},
   "outputs": [],
   "source": [
    "function integral(k, f)\n",
    "    (xp,a)=gauss(Float64, k)\n",
    "    sum(a .* f.(xp))\n",
    "end"
   ]
  },
  {
   "cell_type": "code",
   "execution_count": null,
   "metadata": {},
   "outputs": [],
   "source": [
    "f(x) = 3*x^4\n",
    "println( integral(6, f) )\n",
    "quadgk(f, -1, 1)"
   ]
  },
  {
   "cell_type": "code",
   "execution_count": null,
   "metadata": {},
   "outputs": [],
   "source": [
    "f(x) = 50*x^8 + 4*x^6 + 5*x^4\n",
    "println( integral(5, f) )\n",
    "println( quadgk(f, -1, 1) )\n",
    "100 * abs((integral(5, f) - quadgk(f, -1, 1)[1]) / quadgk(f, -1, 1)[1])"
   ]
  },
  {
   "cell_type": "code",
   "execution_count": null,
   "metadata": {},
   "outputs": [],
   "source": [
    "f(x) = 50*x^10 + 4*x^6 + 5*x^4\n",
    "println( integral(5, f) )\n",
    "println( quadgk(f, -1, 1) )\n",
    "100 * abs((integral(5, f) - quadgk(f, -1, 1)[1]) / quadgk(f, -1, 1)[1])"
   ]
  },
  {
   "cell_type": "code",
   "execution_count": null,
   "metadata": {},
   "outputs": [],
   "source": []
  },
  {
   "cell_type": "code",
   "execution_count": null,
   "metadata": {},
   "outputs": [],
   "source": [
    "function integral(k, f, a, b)\n",
    "    (xp, p)=gauss(Float64, k)\n",
    "    \n",
    "    x = [ ((b+a)/2) + ((b-a)/2) * x1 for x1 in xp]\n",
    "    \n",
    "    sum(p .* f.(x)) * ((b-a)/2)\n",
    "end"
   ]
  },
  {
   "cell_type": "code",
   "execution_count": null,
   "metadata": {},
   "outputs": [],
   "source": [
    "f(x) = x^2\n",
    "integral(10, f, 0, 5)\n",
    "# 41.66666666666666"
   ]
  },
  {
   "cell_type": "code",
   "execution_count": null,
   "metadata": {},
   "outputs": [],
   "source": [
    "f(x) = x^3\n",
    "integral(10, f, -2, 2)\n",
    "# 0"
   ]
  },
  {
   "cell_type": "code",
   "execution_count": null,
   "metadata": {},
   "outputs": [],
   "source": [
    "f(x) = x^4 + 5*x^2 + 2*x + 5\n",
    "integral(10, f, 0, 5)\n",
    "# 883.3333333333333"
   ]
  },
  {
   "cell_type": "code",
   "execution_count": null,
   "metadata": {
    "scrolled": true
   },
   "outputs": [],
   "source": [
    "f(x) = sin(x)\n",
    "integral(5, f, 0, pi)\n",
    "# 2"
   ]
  },
  {
   "cell_type": "code",
   "execution_count": null,
   "metadata": {},
   "outputs": [],
   "source": []
  },
  {
   "cell_type": "code",
   "execution_count": null,
   "metadata": {},
   "outputs": [],
   "source": [
    "f(x) = x^4 + 5*x^2 + 2*x + 5\n",
    "quadgk(f, 0, 5)"
   ]
  },
  {
   "cell_type": "code",
   "execution_count": null,
   "metadata": {},
   "outputs": [],
   "source": [
    "f(x) = ( 1 / sqrt(2*pi) ) * exp( (-x^2) / 2 )\n",
    "quadgk(f, -Inf, +Inf)"
   ]
  },
  {
   "cell_type": "code",
   "execution_count": null,
   "metadata": {},
   "outputs": [],
   "source": []
  },
  {
   "cell_type": "code",
   "execution_count": null,
   "metadata": {},
   "outputs": [],
   "source": [
    "function trapezIntegral(k, f, a, b)\n",
    "    l = (b-a) / k\n",
    "    xp = [a + (b-a) * (i/k) for i in range(0, k)]\n",
    "    yp = [ ( f(xp[i]) + f(xp[i+1]) ) / 2 for i in range(1, size(xp,1) - 1 )]\n",
    "    sum(yp) * l\n",
    "end"
   ]
  },
  {
   "cell_type": "code",
   "execution_count": null,
   "metadata": {},
   "outputs": [],
   "source": [
    "f(x) = 5 * x^4\n",
    "F(x) = x^5\n",
    "\n",
    "k = 15:20\n",
    "err = [trapezIntegral(k1, f, 0, 10) - (F(10) - F(0)) for k1 in k]\n",
    "scatter(k, err)"
   ]
  },
  {
   "cell_type": "code",
   "execution_count": null,
   "metadata": {},
   "outputs": [],
   "source": []
  },
  {
   "cell_type": "code",
   "execution_count": null,
   "metadata": {},
   "outputs": [],
   "source": []
  }
 ],
 "metadata": {
  "kernelspec": {
   "display_name": "Julia 1.0.3 (4 threads)",
   "language": "julia",
   "name": "julia-1.0k"
  },
  "language_info": {
   "file_extension": ".jl",
   "mimetype": "application/julia",
   "name": "julia",
   "version": "1.0.3"
  }
 },
 "nbformat": 4,
 "nbformat_minor": 2
}
